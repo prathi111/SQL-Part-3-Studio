{
    "metadata": {
        "kernelspec": {
            "name": "SQL",
            "display_name": "SQL",
            "language": "sql"
        },
        "language_info": {
            "name": "sql",
            "version": ""
        },
        "extensions": {
            "azuredatastudio": {
                "version": 1,
                "views": []
            }
        }
    },
    "nbformat_minor": 2,
    "nbformat": 4,
    "cells": [
        {
            "cell_type": "markdown",
            "source": [
                "# SQL Part 3 Studio\n",
                "\n",
                "### Let's practice your SQL quering skills!  For each question, work along in the notebook adding your query and answering the questions. \n",
                "\n",
                "### **DataSet**\n",
                "\n",
                "### <span style=\"font-size: 14px; font-family: -apple-system, BlinkMacSystemFont, sans-serif;\">We will be using the Goodbooks-10k dataset from the exercises in the prep work.&nbsp; Feel free reference your previous notebooks.</span>\n",
                "\n",
                "- The dataset can be found here: [goodbooks-10k](https://www.kaggle.com/zygmunt/goodbooks-10k)\n",
                "- You can access the **BooksDB** in the Launchcode server.\n",
                "\n",
                "### **Business Issue**\n",
                "\n",
                "You are an employee at a small independet bookstore and you have been tasked to increase sales.  You decide to use the BooksDB to find books and themes to highlight in fun promotions throughout each month / season.  We will be starting with March and then you will have a chance to explore another month of your choosing.  We want to come up with a list of events/ promotions to run each month.  If you are looking for ideas to include in your promotions:\n",
                "\n",
                "- [https://www.calendarr.com/united-states/calendar-2022/](https://www.calendarr.com/united-states/calendar-2022/)\n",
                "- [https://www.holidayinsights.com/moreholidays/](https://www.holidayinsights.com/moreholidays/)\n",
                "    - Click on a month and it will take you to a more detailed page"
            ],
            "metadata": {
                "azdata_cell_guid": "b9034d8a-b631-48bf-a895-1012a6ffa784"
            },
            "attachments": {}
        },
        {
            "cell_type": "markdown",
            "source": [
                "## Part 1:  March - Women's History Month, Dr Seuss Day(3/2), National Pie Day3/14, St Patrick's Day (3/17), Season - Spring"
            ],
            "metadata": {
                "azdata_cell_guid": "6e55eb1c-4a14-4076-90d2-95ed17a6309f"
            },
            "attachments": {}
        },
        {
            "cell_type": "markdown",
            "source": [
                "### **Event 1:** Women's History Month\n",
                "\n",
                "Goal: Highlight Popular Womans Authors based on ratings from the Good Reads DB.\n",
                "\n",
                "### **Write a query that returns tag\\_id, the number of times each tag\\_id is used and the tag\\_name.**  \n",
                "\n",
                "### Use the GROUP BY and HAVING clause to narrow your focus.\n",
                "\n",
                "Try multiple keywords, ie woman vs female (female ended up giving better results)"
            ],
            "metadata": {
                "azdata_cell_guid": "d220c097-e9cf-4edd-9abe-312d071217b7"
            },
            "attachments": {}
        },
        {
            "cell_type": "code",
            "source": [
                "-- Solution\n",
                "\n",
                "\n",
                "\n",
                "\n",
                "select top(50) bt.tag_id,count(*) as count,t.tag_name\n",
                "from BooksDB.dbo.book_tags as bt\n",
                "inner join BooksDB.dbo.tags as t\n",
                "on bt.tag_id=t.tag_id\n",
                "group by bt.tag_id,t.tag_name\n",
                "having t.tag_name like '%female%'\n",
                "order by count desc"
            ],
            "metadata": {
                "azdata_cell_guid": "e31b9d26-0386-44c7-828e-85f4f06f3ee6",
                "language": "sql",
                "tags": []
            },
            "outputs": [
                {
                    "output_type": "display_data",
                    "data": {
                        "text/html": "(35 rows affected)"
                    },
                    "metadata": {}
                },
                {
                    "output_type": "display_data",
                    "data": {
                        "text/html": "Total execution time: 00:00:00.246"
                    },
                    "metadata": {}
                },
                {
                    "output_type": "execute_result",
                    "metadata": {},
                    "execution_count": 37,
                    "data": {
                        "application/vnd.dataresource+json": {
                            "schema": {
                                "fields": [
                                    {
                                        "name": "tag_id"
                                    },
                                    {
                                        "name": "count"
                                    },
                                    {
                                        "name": "tag_name"
                                    }
                                ]
                            },
                            "data": [
                                {
                                    "0": "11643",
                                    "1": "997",
                                    "2": "female-author"
                                },
                                {
                                    "0": "11644",
                                    "1": "721",
                                    "2": "female-authors"
                                },
                                {
                                    "0": "11658",
                                    "1": "171",
                                    "2": "female-protagonist"
                                },
                                {
                                    "0": "11646",
                                    "1": "32",
                                    "2": "female-detective"
                                },
                                {
                                    "0": "11662",
                                    "1": "18",
                                    "2": "female-writers"
                                },
                                {
                                    "0": "11656",
                                    "1": "17",
                                    "2": "female-pov"
                                },
                                {
                                    "0": "11642",
                                    "1": "17",
                                    "2": "female"
                                },
                                {
                                    "0": "11652",
                                    "1": "14",
                                    "2": "female-lead"
                                },
                                {
                                    "0": "3514",
                                    "1": "12",
                                    "2": "author-female"
                                },
                                {
                                    "0": "28834",
                                    "1": "10",
                                    "2": "strong-female-lead"
                                },
                                {
                                    "0": "11647",
                                    "1": "9",
                                    "2": "female-detectives"
                                },
                                {
                                    "0": "11650",
                                    "1": "4",
                                    "2": "female-friendship"
                                },
                                {
                                    "0": "28830",
                                    "1": "4",
                                    "2": "strong-female"
                                },
                                {
                                    "0": "28833",
                                    "1": "3",
                                    "2": "strong-female-characters"
                                },
                                {
                                    "0": "11645",
                                    "1": "2",
                                    "2": "female-biographies"
                                },
                                {
                                    "0": "1741",
                                    "1": "1",
                                    "2": "afghan-female-entrepreneur-under-ta"
                                },
                                {
                                    "0": "11648",
                                    "1": "1",
                                    "2": "female-doctor"
                                },
                                {
                                    "0": "4309",
                                    "1": "1",
                                    "2": "best-adult-female-friendship-books"
                                },
                                {
                                    "0": "11654",
                                    "1": "1",
                                    "2": "female-persuasion"
                                },
                                {
                                    "0": "11649",
                                    "1": "1",
                                    "2": "female-fiction"
                                },
                                {
                                    "0": "11651",
                                    "1": "1",
                                    "2": "female-genre-authors"
                                },
                                {
                                    "0": "11653",
                                    "1": "1",
                                    "2": "female-main-character"
                                },
                                {
                                    "0": "11655",
                                    "1": "1",
                                    "2": "female-pi"
                                },
                                {
                                    "0": "11657",
                                    "1": "1",
                                    "2": "female-povs"
                                },
                                {
                                    "0": "11659",
                                    "1": "1",
                                    "2": "female-serial-killer"
                                },
                                {
                                    "0": "11660",
                                    "1": "1",
                                    "2": "female-spy"
                                },
                                {
                                    "0": "15331",
                                    "1": "1",
                                    "2": "important-female-authors"
                                },
                                {
                                    "0": "17079",
                                    "1": "1",
                                    "2": "kick-ass-female"
                                },
                                {
                                    "0": "28831",
                                    "1": "1",
                                    "2": "strong-female-character"
                                },
                                {
                                    "0": "28832",
                                    "1": "1",
                                    "2": "strong-female-character-s"
                                },
                                {
                                    "0": "28835",
                                    "1": "1",
                                    "2": "strong-female-protagonist"
                                },
                                {
                                    "0": "28836",
                                    "1": "1",
                                    "2": "strong-female-supporting-characters"
                                },
                                {
                                    "0": "11661",
                                    "1": "1",
                                    "2": "female-writer"
                                },
                                {
                                    "0": "24455",
                                    "1": "1",
                                    "2": "protagonist-female"
                                },
                                {
                                    "0": "29324",
                                    "1": "1",
                                    "2": "tbr-ax-female"
                                }
                            ]
                        },
                        "text/html": [
                            "<table>",
                            "<tr><th>tag_id</th><th>count</th><th>tag_name</th></tr>",
                            "<tr><td>11643</td><td>997</td><td>female-author</td></tr>",
                            "<tr><td>11644</td><td>721</td><td>female-authors</td></tr>",
                            "<tr><td>11658</td><td>171</td><td>female-protagonist</td></tr>",
                            "<tr><td>11646</td><td>32</td><td>female-detective</td></tr>",
                            "<tr><td>11662</td><td>18</td><td>female-writers</td></tr>",
                            "<tr><td>11656</td><td>17</td><td>female-pov</td></tr>",
                            "<tr><td>11642</td><td>17</td><td>female</td></tr>",
                            "<tr><td>11652</td><td>14</td><td>female-lead</td></tr>",
                            "<tr><td>3514</td><td>12</td><td>author-female</td></tr>",
                            "<tr><td>28834</td><td>10</td><td>strong-female-lead</td></tr>",
                            "<tr><td>11647</td><td>9</td><td>female-detectives</td></tr>",
                            "<tr><td>11650</td><td>4</td><td>female-friendship</td></tr>",
                            "<tr><td>28830</td><td>4</td><td>strong-female</td></tr>",
                            "<tr><td>28833</td><td>3</td><td>strong-female-characters</td></tr>",
                            "<tr><td>11645</td><td>2</td><td>female-biographies</td></tr>",
                            "<tr><td>1741</td><td>1</td><td>afghan-female-entrepreneur-under-ta</td></tr>",
                            "<tr><td>11648</td><td>1</td><td>female-doctor</td></tr>",
                            "<tr><td>4309</td><td>1</td><td>best-adult-female-friendship-books</td></tr>",
                            "<tr><td>11654</td><td>1</td><td>female-persuasion</td></tr>",
                            "<tr><td>11649</td><td>1</td><td>female-fiction</td></tr>",
                            "<tr><td>11651</td><td>1</td><td>female-genre-authors</td></tr>",
                            "<tr><td>11653</td><td>1</td><td>female-main-character</td></tr>",
                            "<tr><td>11655</td><td>1</td><td>female-pi</td></tr>",
                            "<tr><td>11657</td><td>1</td><td>female-povs</td></tr>",
                            "<tr><td>11659</td><td>1</td><td>female-serial-killer</td></tr>",
                            "<tr><td>11660</td><td>1</td><td>female-spy</td></tr>",
                            "<tr><td>15331</td><td>1</td><td>important-female-authors</td></tr>",
                            "<tr><td>17079</td><td>1</td><td>kick-ass-female</td></tr>",
                            "<tr><td>28831</td><td>1</td><td>strong-female-character</td></tr>",
                            "<tr><td>28832</td><td>1</td><td>strong-female-character-s</td></tr>",
                            "<tr><td>28835</td><td>1</td><td>strong-female-protagonist</td></tr>",
                            "<tr><td>28836</td><td>1</td><td>strong-female-supporting-characters</td></tr>",
                            "<tr><td>11661</td><td>1</td><td>female-writer</td></tr>",
                            "<tr><td>24455</td><td>1</td><td>protagonist-female</td></tr>",
                            "<tr><td>29324</td><td>1</td><td>tbr-ax-female</td></tr>",
                            "</table>"
                        ]
                    }
                }
            ],
            "execution_count": 37
        },
        {
            "cell_type": "markdown",
            "source": [
                "### **Which keyword(s) and tag(s) would you like to explore more?**\n",
                "\n",
                "Double click to edit."
            ],
            "metadata": {
                "azdata_cell_guid": "e9acd8b5-a62b-4ac0-bd07-19915b379ba6"
            },
            "attachments": {}
        },
        {
            "cell_type": "markdown",
            "source": [
                "### **Write a query to return authors, titles, ratings and** **selected tag(s)\\_id.**"
            ],
            "metadata": {
                "azdata_cell_guid": "59b84464-c0bc-4dac-9e02-0c803765b063"
            },
            "attachments": {}
        },
        {
            "cell_type": "code",
            "source": [
                "-- Solution\n",
                "select top (20) b.authors,b.title,b.average_rating,bt.tag_id\n",
                "from BooksDB.dbo.books as b\n",
                "join BooksDB.dbo.book_tags as bt\n",
                "on b.book_id=bt.goodreads_book_id\n",
                "where bt.tag_id = 11644\n",
                "order by tag_id, average_rating desc"
            ],
            "metadata": {
                "azdata_cell_guid": "51ffeaaf-6dde-4906-95f3-eb8757babf27",
                "tags": [],
                "language": "sql"
            },
            "outputs": [
                {
                    "output_type": "display_data",
                    "data": {
                        "text/html": "(20 rows affected)"
                    },
                    "metadata": {}
                },
                {
                    "output_type": "display_data",
                    "data": {
                        "text/html": "Total execution time: 00:00:00.197"
                    },
                    "metadata": {}
                },
                {
                    "output_type": "execute_result",
                    "metadata": {},
                    "execution_count": 43,
                    "data": {
                        "application/vnd.dataresource+json": {
                            "schema": {
                                "fields": [
                                    {
                                        "name": "authors"
                                    },
                                    {
                                        "name": "title"
                                    },
                                    {
                                        "name": "average_rating"
                                    },
                                    {
                                        "name": "tag_id"
                                    }
                                ]
                            },
                            "data": [
                                {
                                    "0": "Jane Austen",
                                    "1": "The Complete Novels",
                                    "2": "4.55",
                                    "3": "11644"
                                },
                                {
                                    "0": "Robin Hobb",
                                    "1": "Fool's Quest  (The Fitz and The Fool, #2)",
                                    "2": "4.53",
                                    "3": "11644"
                                },
                                {
                                    "0": "C.S. Pacat",
                                    "1": "Kings Rising (Captive Prince, #3)",
                                    "2": "4.5",
                                    "3": "11644"
                                },
                                {
                                    "0": "Hiromu Arakawa, Akira Watanabe",
                                    "1": "Fullmetal Alchemist, Vol. 1 (Fullmetal Alchemist, #1)",
                                    "2": "4.49",
                                    "3": "11644"
                                },
                                {
                                    "0": "Chimamanda Ngozi Adichie",
                                    "1": "We Should All Be Feminists",
                                    "2": "4.47",
                                    "3": "11644"
                                },
                                {
                                    "0": "Flannery O'Connor",
                                    "1": "The Complete Stories",
                                    "2": "4.44",
                                    "3": "11644"
                                },
                                {
                                    "0": "Barbara Demick",
                                    "1": "Nothing to Envy: Ordinary Lives in North Korea",
                                    "2": "4.42",
                                    "3": "11644"
                                },
                                {
                                    "0": "Yaa Gyasi",
                                    "1": "Homegoing",
                                    "2": "4.41",
                                    "3": "11644"
                                },
                                {
                                    "0": "Elena Ferrante, Ann Goldstein",
                                    "1": "The Story of the Lost Child (The Neapolitan Novels, #4)",
                                    "2": "4.39",
                                    "3": "11644"
                                },
                                {
                                    "0": "Bernadette Rossetti-Shustak, Caroline Jayne Church",
                                    "1": "I Love You Through and Through",
                                    "2": "4.39",
                                    "3": "11644"
                                },
                                {
                                    "0": "Elena Ferrante, Ann Goldstein",
                                    "1": "The Story of a New Name (The Neapolitan Novels #2)",
                                    "2": "4.37",
                                    "3": "11644"
                                },
                                {
                                    "0": "Marjane Satrapi, Mattias Ripa, Blake Ferris, Anjali Singh",
                                    "1": "The Complete Persepolis",
                                    "2": "4.36",
                                    "3": "11644"
                                },
                                {
                                    "0": "Susan Abulhawa",
                                    "1": "Mornings in Jenin",
                                    "2": "4.35",
                                    "3": "11644"
                                },
                                {
                                    "0": "Julia Child, Simone Beck, Louisette Bertholle",
                                    "1": "Mastering the Art of French Cooking",
                                    "2": "4.33",
                                    "3": "11644"
                                },
                                {
                                    "0": "Tamora Pierce",
                                    "1": "Wild Magic (Immortals, #1)",
                                    "2": "4.32",
                                    "3": "11644"
                                },
                                {
                                    "0": "Enid Blyton",
                                    "1": "The Folk of the Faraway Tree (The Faraway Tree, #3)",
                                    "2": "4.32",
                                    "3": "11644"
                                },
                                {
                                    "0": "N.K. Jemisin",
                                    "1": "The Fifth Season (The Broken Earth, #1)",
                                    "2": "4.31",
                                    "3": "11644"
                                },
                                {
                                    "0": "Julia Child",
                                    "1": "The Way to Cook",
                                    "2": "4.31",
                                    "3": "11644"
                                },
                                {
                                    "0": "Diana Wynne Jones",
                                    "1": "Howl's Moving Castle (Howl's Moving Castle, #1)",
                                    "2": "4.3",
                                    "3": "11644"
                                },
                                {
                                    "0": "Barbara Shook Hazen, Robert Lewis May, Richard Scarry",
                                    "1": "Rudolph the Red-Nosed Reindeer",
                                    "2": "4.3",
                                    "3": "11644"
                                }
                            ]
                        },
                        "text/html": [
                            "<table>",
                            "<tr><th>authors</th><th>title</th><th>average_rating</th><th>tag_id</th></tr>",
                            "<tr><td>Jane Austen</td><td>The Complete Novels</td><td>4.55</td><td>11644</td></tr>",
                            "<tr><td>Robin Hobb</td><td>Fool's Quest  (The Fitz and The Fool, #2)</td><td>4.53</td><td>11644</td></tr>",
                            "<tr><td>C.S. Pacat</td><td>Kings Rising (Captive Prince, #3)</td><td>4.5</td><td>11644</td></tr>",
                            "<tr><td>Hiromu Arakawa, Akira Watanabe</td><td>Fullmetal Alchemist, Vol. 1 (Fullmetal Alchemist, #1)</td><td>4.49</td><td>11644</td></tr>",
                            "<tr><td>Chimamanda Ngozi Adichie</td><td>We Should All Be Feminists</td><td>4.47</td><td>11644</td></tr>",
                            "<tr><td>Flannery O'Connor</td><td>The Complete Stories</td><td>4.44</td><td>11644</td></tr>",
                            "<tr><td>Barbara Demick</td><td>Nothing to Envy: Ordinary Lives in North Korea</td><td>4.42</td><td>11644</td></tr>",
                            "<tr><td>Yaa Gyasi</td><td>Homegoing</td><td>4.41</td><td>11644</td></tr>",
                            "<tr><td>Elena Ferrante, Ann Goldstein</td><td>The Story of the Lost Child (The Neapolitan Novels, #4)</td><td>4.39</td><td>11644</td></tr>",
                            "<tr><td>Bernadette Rossetti-Shustak, Caroline Jayne Church</td><td>I Love You Through and Through</td><td>4.39</td><td>11644</td></tr>",
                            "<tr><td>Elena Ferrante, Ann Goldstein</td><td>The Story of a New Name (The Neapolitan Novels #2)</td><td>4.37</td><td>11644</td></tr>",
                            "<tr><td>Marjane Satrapi, Mattias Ripa, Blake Ferris, Anjali Singh</td><td>The Complete Persepolis</td><td>4.36</td><td>11644</td></tr>",
                            "<tr><td>Susan Abulhawa</td><td>Mornings in Jenin</td><td>4.35</td><td>11644</td></tr>",
                            "<tr><td>Julia Child, Simone Beck, Louisette Bertholle</td><td>Mastering the Art of French Cooking</td><td>4.33</td><td>11644</td></tr>",
                            "<tr><td>Tamora Pierce</td><td>Wild Magic (Immortals, #1)</td><td>4.32</td><td>11644</td></tr>",
                            "<tr><td>Enid Blyton</td><td>The Folk of the Faraway Tree (The Faraway Tree, #3)</td><td>4.32</td><td>11644</td></tr>",
                            "<tr><td>N.K. Jemisin</td><td>The Fifth Season (The Broken Earth, #1)</td><td>4.31</td><td>11644</td></tr>",
                            "<tr><td>Julia Child</td><td>The Way to Cook</td><td>4.31</td><td>11644</td></tr>",
                            "<tr><td>Diana Wynne Jones</td><td>Howl's Moving Castle (Howl's Moving Castle, #1)</td><td>4.3</td><td>11644</td></tr>",
                            "<tr><td>Barbara Shook Hazen, Robert Lewis May, Richard Scarry</td><td>Rudolph the Red-Nosed Reindeer</td><td>4.3</td><td>11644</td></tr>",
                            "</table>"
                        ]
                    }
                }
            ],
            "execution_count": 43
        },
        {
            "cell_type": "markdown",
            "source": [
                "### **Record your thoughts about why you wrote the query the way you did.**"
            ],
            "metadata": {
                "azdata_cell_guid": "1e19a72c-1bca-446b-a0c7-a8efbc35dcf1"
            },
            "attachments": {}
        },
        {
            "cell_type": "markdown",
            "source": [
                "# Part 2: Choose Another Month\n",
                "\n",
                "Choose another month and plan at least 2 events / promotions and answer the following questions.\n",
                "\n",
                "Which month did you choose?  \n",
                "\n",
                "What 2 events / promotions are you highlighting?\n",
                "\n",
                "> 1. <span style=\"color: #0000ff;\">select</span> <span style=\"color: #0000ff;\">top</span>(<span style=\"color: #09885a;\">50</span>) bt.tag\\_id,<span style=\"color: #795e26;\">count</span>(<span style=\"color: #000000;\">*</span>) <span style=\"color: #0000ff;\">as</span> count,t.tag\\_name\n",
                ">     \n",
                ">     <span style=\"color: #0000ff;\">from</span> BooksDB.dbo.book\\_tags <span style=\"color: #0000ff;\">as</span> bt\n",
                ">     \n",
                ">     <span style=\"color: #0000ff;\">full join</span> BooksDB.dbo.tags <span style=\"color: #0000ff;\">as</span> t\n",
                ">     \n",
                ">     <span style=\"color: #0000ff;\">on</span> bt.tag\\_id<span style=\"color: #000000;\">=</span>t.tag\\_id\n",
                ">     \n",
                ">     <span style=\"color: #0000ff;\">group by</span> bt.tag\\_id,t.tag\\_name\n",
                ">     \n",
                ">     <span style=\"color: #0000ff;\">having</span> t.tag\\_name <span style=\"color: #0000ff;\">like</span> <span style=\"color: #a31515;\">'%Math%'</span>\n",
                ">     \n",
                ">     <span style=\"color: #0000ff;\">order by</span> count <span style=\"color: #0000ff;\">desc</span>\n",
                ">"
            ],
            "metadata": {
                "azdata_cell_guid": "3eaf376d-9de3-4553-a9d0-9caf74ee3d6a"
            },
            "attachments": {}
        },
        {
            "cell_type": "markdown",
            "source": [
                "# Part 3: Summarize your Work\n",
                "\n",
                "For each event write at least one query that joins any two tables in the BooksDB to support your choice and record you thoughts as to why you used the paticlular query. At least one of your queries needs to include a HAVING clause."
            ],
            "metadata": {
                "azdata_cell_guid": "1ba1363a-4f02-4962-a95a-93b80c5926b1"
            },
            "attachments": {}
        },
        {
            "cell_type": "code",
            "source": [
                "-- Event 1 Query\n",
                "\n",
                "select top(50) bt.tag_id,count(*) as count,t.tag_name\n",
                "from BooksDB.dbo.book_tags as bt\n",
                "full join BooksDB.dbo.tags as t\n",
                "on bt.tag_id=t.tag_id\n",
                "group by bt.tag_id,t.tag_name\n",
                "having t.tag_name like '%Math%'\n",
                "order by count desc"
            ],
            "metadata": {
                "azdata_cell_guid": "f50d32ce-4cb2-4af2-acb1-607777a76cf8",
                "language": "sql"
            },
            "outputs": [
                {
                    "output_type": "display_data",
                    "data": {
                        "text/html": "(28 rows affected)"
                    },
                    "metadata": {}
                },
                {
                    "output_type": "display_data",
                    "data": {
                        "text/html": "Total execution time: 00:00:00.673"
                    },
                    "metadata": {}
                },
                {
                    "output_type": "execute_result",
                    "metadata": {},
                    "execution_count": 44,
                    "data": {
                        "application/vnd.dataresource+json": {
                            "schema": {
                                "fields": [
                                    {
                                        "name": "tag_id"
                                    },
                                    {
                                        "name": "count"
                                    },
                                    {
                                        "name": "tag_name"
                                    }
                                ]
                            },
                            "data": [
                                {
                                    "0": "19452",
                                    "1": "62",
                                    "2": "mathematics"
                                },
                                {
                                    "0": "19445",
                                    "1": "54",
                                    "2": "math"
                                },
                                {
                                    "0": "26857",
                                    "1": "44",
                                    "2": "science-math"
                                },
                                {
                                    "0": "19450",
                                    "1": "41",
                                    "2": "math-science"
                                },
                                {
                                    "0": "26819",
                                    "1": "31",
                                    "2": "science-and-math"
                                },
                                {
                                    "0": "19446",
                                    "1": "15",
                                    "2": "math-and-science"
                                },
                                {
                                    "0": "26858",
                                    "1": "15",
                                    "2": "science-mathematics"
                                },
                                {
                                    "0": "19456",
                                    "1": "13",
                                    "2": "maths"
                                },
                                {
                                    "0": "19454",
                                    "1": "8",
                                    "2": "mathew-reilly"
                                },
                                {
                                    "0": "24795",
                                    "1": "4",
                                    "2": "r-l-mathewson"
                                },
                                {
                                    "0": "25976",
                                    "1": "4",
                                    "2": "rl-mathewson"
                                },
                                {
                                    "0": "19449",
                                    "1": "3",
                                    "2": "math-physics"
                                },
                                {
                                    "0": "23575",
                                    "1": "3",
                                    "2": "physics-math"
                                },
                                {
                                    "0": "25893",
                                    "1": "3",
                                    "2": "richard-matheson"
                                },
                                {
                                    "0": "26820",
                                    "1": "3",
                                    "2": "science-and-maths"
                                },
                                {
                                    "0": "23576",
                                    "1": "2",
                                    "2": "physics-mathematics"
                                },
                                {
                                    "0": "1791",
                                    "1": "1",
                                    "2": "aftermath-of-the-sinking"
                                },
                                {
                                    "0": "1792",
                                    "1": "1",
                                    "2": "aftermath-of-the-sinking-of-the-tit"
                                },
                                {
                                    "0": "2926",
                                    "1": "1",
                                    "2": "aromatherapy-reiki"
                                },
                                {
                                    "0": "19453",
                                    "1": "1",
                                    "2": "matheson"
                                },
                                {
                                    "0": "19448",
                                    "1": "1",
                                    "2": "math-history"
                                },
                                {
                                    "0": "19447",
                                    "1": "1",
                                    "2": "math-books"
                                },
                                {
                                    "0": "19451",
                                    "1": "1",
                                    "2": "mathematical"
                                },
                                {
                                    "0": "19457",
                                    "1": "1",
                                    "2": "maths-science"
                                },
                                {
                                    "0": "23957",
                                    "1": "1",
                                    "2": "polymath"
                                },
                                {
                                    "0": "19455",
                                    "1": "1",
                                    "2": "mathias-malzieu"
                                },
                                {
                                    "0": "26859",
                                    "1": "1",
                                    "2": "science-maths"
                                },
                                {
                                    "0": "19467",
                                    "1": "1",
                                    "2": "matthew-mather"
                                }
                            ]
                        },
                        "text/html": [
                            "<table>",
                            "<tr><th>tag_id</th><th>count</th><th>tag_name</th></tr>",
                            "<tr><td>19452</td><td>62</td><td>mathematics</td></tr>",
                            "<tr><td>19445</td><td>54</td><td>math</td></tr>",
                            "<tr><td>26857</td><td>44</td><td>science-math</td></tr>",
                            "<tr><td>19450</td><td>41</td><td>math-science</td></tr>",
                            "<tr><td>26819</td><td>31</td><td>science-and-math</td></tr>",
                            "<tr><td>19446</td><td>15</td><td>math-and-science</td></tr>",
                            "<tr><td>26858</td><td>15</td><td>science-mathematics</td></tr>",
                            "<tr><td>19456</td><td>13</td><td>maths</td></tr>",
                            "<tr><td>19454</td><td>8</td><td>mathew-reilly</td></tr>",
                            "<tr><td>24795</td><td>4</td><td>r-l-mathewson</td></tr>",
                            "<tr><td>25976</td><td>4</td><td>rl-mathewson</td></tr>",
                            "<tr><td>19449</td><td>3</td><td>math-physics</td></tr>",
                            "<tr><td>23575</td><td>3</td><td>physics-math</td></tr>",
                            "<tr><td>25893</td><td>3</td><td>richard-matheson</td></tr>",
                            "<tr><td>26820</td><td>3</td><td>science-and-maths</td></tr>",
                            "<tr><td>23576</td><td>2</td><td>physics-mathematics</td></tr>",
                            "<tr><td>1791</td><td>1</td><td>aftermath-of-the-sinking</td></tr>",
                            "<tr><td>1792</td><td>1</td><td>aftermath-of-the-sinking-of-the-tit</td></tr>",
                            "<tr><td>2926</td><td>1</td><td>aromatherapy-reiki</td></tr>",
                            "<tr><td>19453</td><td>1</td><td>matheson</td></tr>",
                            "<tr><td>19448</td><td>1</td><td>math-history</td></tr>",
                            "<tr><td>19447</td><td>1</td><td>math-books</td></tr>",
                            "<tr><td>19451</td><td>1</td><td>mathematical</td></tr>",
                            "<tr><td>19457</td><td>1</td><td>maths-science</td></tr>",
                            "<tr><td>23957</td><td>1</td><td>polymath</td></tr>",
                            "<tr><td>19455</td><td>1</td><td>mathias-malzieu</td></tr>",
                            "<tr><td>26859</td><td>1</td><td>science-maths</td></tr>",
                            "<tr><td>19467</td><td>1</td><td>matthew-mather</td></tr>",
                            "</table>"
                        ]
                    }
                }
            ],
            "execution_count": 44
        },
        {
            "cell_type": "code",
            "source": [
                ""
            ],
            "metadata": {
                "azdata_cell_guid": "5606f7f2-c46b-42d3-ac64-7ae21c3394f8",
                "language": "sql"
            },
            "outputs": [],
            "execution_count": null
        },
        {
            "cell_type": "markdown",
            "source": [
                "### **Summary of event 1:**\n",
                "\n",
                "Double Click to edit."
            ],
            "metadata": {
                "azdata_cell_guid": "3bc72d4c-077b-42d3-9528-9aff8e7b6cf3"
            },
            "attachments": {}
        },
        {
            "cell_type": "code",
            "source": [
                "-- Event 2 Query\n",
                "\n",
                "select top(50) b.authors,b.title,b.average_rating,bt.tag_id\n",
                "from BooksDB.dbo.books as b\n",
                "inner join BooksDB.dbo.book_tags as bt\n",
                "on b.book_id=bt.goodreads_book_id\n",
                "where tag_id=19445\n",
                "order by bt.tag_id,b.average_rating desc"
            ],
            "metadata": {
                "azdata_cell_guid": "dca0a98f-065f-4b0e-9d93-fcb01cad668c",
                "language": "sql",
                "tags": []
            },
            "outputs": [
                {
                    "output_type": "display_data",
                    "data": {
                        "text/html": "(50 rows affected)"
                    },
                    "metadata": {}
                },
                {
                    "output_type": "display_data",
                    "data": {
                        "text/html": "Total execution time: 00:00:00.162"
                    },
                    "metadata": {}
                },
                {
                    "output_type": "execute_result",
                    "metadata": {},
                    "execution_count": 46,
                    "data": {
                        "application/vnd.dataresource+json": {
                            "schema": {
                                "fields": [
                                    {
                                        "name": "authors"
                                    },
                                    {
                                        "name": "title"
                                    },
                                    {
                                        "name": "average_rating"
                                    },
                                    {
                                        "name": "tag_id"
                                    }
                                ]
                            },
                            "data": [
                                {
                                    "0": "Hervé Tullet, Christopher Franceschelli",
                                    "1": "Press Here",
                                    "2": "4.44",
                                    "3": "19445"
                                },
                                {
                                    "0": "Kevin Henkes",
                                    "1": "Chrysanthemum",
                                    "2": "4.31",
                                    "3": "19445"
                                },
                                {
                                    "0": "Douglas R. Hofstadter",
                                    "1": "Gödel, Escher, Bach: An Eternal Golden Braid",
                                    "2": "4.3",
                                    "3": "19445"
                                },
                                {
                                    "0": "Richard Feynman",
                                    "1": "Surely You're Joking, Mr. Feynman!: Adventures of a Curious Character",
                                    "2": "4.29",
                                    "3": "19445"
                                },
                                {
                                    "0": "Eric Carle",
                                    "1": "The Very Hungry Caterpillar Board Book",
                                    "2": "4.29",
                                    "3": "19445"
                                },
                                {
                                    "0": "Simon Singh",
                                    "1": "The Code Book: The Science of Secrecy from Ancient Egypt to Quantum Cryptography",
                                    "2": "4.28",
                                    "3": "19445"
                                },
                                {
                                    "0": "Audrey Wood, Don    Wood",
                                    "1": "The Napping House",
                                    "2": "4.27",
                                    "3": "19445"
                                },
                                {
                                    "0": "Neal Stephenson",
                                    "1": "Cryptonomicon",
                                    "2": "4.25",
                                    "3": "19445"
                                },
                                {
                                    "0": "Michael   Lewis",
                                    "1": "Moneyball: The Art of Winning an Unfair Game",
                                    "2": "4.24",
                                    "3": "19445"
                                },
                                {
                                    "0": "Richard Feynman",
                                    "1": "QED: The Strange Theory of Light and Matter",
                                    "2": "4.23",
                                    "3": "19445"
                                },
                                {
                                    "0": "Kevin Henkes",
                                    "1": "Wemberly Worried",
                                    "2": "4.22",
                                    "3": "19445"
                                },
                                {
                                    "0": "Norton Juster, Jules Feiffer",
                                    "1": "The Phantom Tollbooth",
                                    "2": "4.22",
                                    "3": "19445"
                                },
                                {
                                    "0": "Simon Singh",
                                    "1": "Fermat's Enigma: The Epic Quest to Solve the World's Greatest Mathematical Problem",
                                    "2": "4.22",
                                    "3": "19445"
                                },
                                {
                                    "0": "Vera B. Williams",
                                    "1": "A Chair for My Mother",
                                    "2": "4.2",
                                    "3": "19445"
                                },
                                {
                                    "0": "Tom Stoppard",
                                    "1": "Arcadia",
                                    "2": "4.19",
                                    "3": "19445"
                                },
                                {
                                    "0": "Richard Feynman",
                                    "1": "Six Easy Pieces: Essentials of Physics By Its Most Brilliant Teacher",
                                    "2": "4.19",
                                    "3": "19445"
                                },
                                {
                                    "0": "Neal Stephenson",
                                    "1": "Anathem",
                                    "2": "4.18",
                                    "3": "19445"
                                },
                                {
                                    "0": "Albert Einstein, Nigel Calder, Robert W. Lawson",
                                    "1": "Relativity: The Special and the General Theory",
                                    "2": "4.17",
                                    "3": "19445"
                                },
                                {
                                    "0": "Randall Munroe",
                                    "1": "What If?: Serious Scientific Answers to Absurd Hypothetical Questions",
                                    "2": "4.17",
                                    "3": "19445"
                                },
                                {
                                    "0": "James Gleick",
                                    "1": "Genius: The Life and Science of Richard Feynman",
                                    "2": "4.16",
                                    "3": "19445"
                                },
                                {
                                    "0": "Bruno Ernst, M.C. Escher, John E. Brigham",
                                    "1": "The Magic Mirror of M.C. Escher",
                                    "2": "4.15",
                                    "3": "19445"
                                },
                                {
                                    "0": "Ellen Stoll Walsh",
                                    "1": "Mouse Paint",
                                    "2": "4.15",
                                    "3": "19445"
                                },
                                {
                                    "0": "Sylvia Nasar",
                                    "1": "A Beautiful Mind",
                                    "2": "4.12",
                                    "3": "19445"
                                },
                                {
                                    "0": "Dr. Seuss",
                                    "1": "One Fish, Two Fish, Red Fish, Blue Fish",
                                    "2": "4.12",
                                    "3": "19445"
                                },
                                {
                                    "0": "Esphyr Slobodkina",
                                    "1": "Caps for Sale: A Tale of a Peddler, Some Monkeys and Their Monkey Business",
                                    "2": "4.12",
                                    "3": "19445"
                                },
                                {
                                    "0": "Michio Kaku",
                                    "1": "Hyperspace",
                                    "2": "4.11",
                                    "3": "19445"
                                },
                                {
                                    "0": "Theo LeSieg, Roy McKie",
                                    "1": "Ten Apples Up On Top!",
                                    "2": "4.11",
                                    "3": "19445"
                                },
                                {
                                    "0": "Jean Lee Latham",
                                    "1": "Carry On, Mr. Bowditch",
                                    "2": "4.11",
                                    "3": "19445"
                                },
                                {
                                    "0": "Eric Carle",
                                    "1": "The Grouchy Ladybug",
                                    "2": "4.09",
                                    "3": "19445"
                                },
                                {
                                    "0": "Wanda Gág",
                                    "1": "Millions of Cats",
                                    "2": "4.08",
                                    "3": "19445"
                                },
                                {
                                    "0": "Ludwig Wittgenstein",
                                    "1": "Tractatus Logico-Philosophicus",
                                    "2": "4.06",
                                    "3": "19445"
                                },
                                {
                                    "0": "Brian Greene",
                                    "1": "The Elegant Universe: Superstrings, Hidden Dimensions, and the Quest for the Ultimate Theory",
                                    "2": "4.06",
                                    "3": "19445"
                                },
                                {
                                    "0": "Nassim Nicholas Taleb",
                                    "1": "Fooled by Randomness: The Hidden Role of Chance in Life and in the Markets",
                                    "2": "4.05",
                                    "3": "19445"
                                },
                                {
                                    "0": "Burton G. Malkiel",
                                    "1": "A Random Walk Down Wall Street",
                                    "2": "4.05",
                                    "3": "19445"
                                },
                                {
                                    "0": "Nassim Nicholas Taleb",
                                    "1": "Antifragile: Things That Gain from Disorder",
                                    "2": "4.04",
                                    "3": "19445"
                                },
                                {
                                    "0": "David Auburn",
                                    "1": "Proof",
                                    "2": "4.01",
                                    "3": "19445"
                                },
                                {
                                    "0": "Apostolos Doxiadis, Christos H. Papadimitriou, Alecos Papadatos, Annie Di Donna",
                                    "1": "Logicomix: An epic search for truth",
                                    "2": "4.01",
                                    "3": "19445"
                                },
                                {
                                    "0": "James Gleick",
                                    "1": "The Information: A History, a Theory, a Flood",
                                    "2": "3.98",
                                    "3": "19445"
                                },
                                {
                                    "0": "James Gleick",
                                    "1": "Chaos: Making a New Science",
                                    "2": "3.98",
                                    "3": "19445"
                                },
                                {
                                    "0": "Nate Silver",
                                    "1": "The Signal and the Noise: Why So Many Predictions Fail - But Some Don't",
                                    "2": "3.96",
                                    "3": "19445"
                                },
                                {
                                    "0": "Fritjof Capra",
                                    "1": "The Tao of Physics: An Exploration of the Parallels between Modern Physics and Eastern Mysticism",
                                    "2": "3.96",
                                    "3": "19445"
                                },
                                {
                                    "0": "Dava Sobel, Neil Armstrong",
                                    "1": "Longitude: The True Story of a Lone Genius Who Solved the Greatest Scientific Problem of His Time",
                                    "2": "3.95",
                                    "3": "19445"
                                },
                                {
                                    "0": "Yōko Ogawa, Stephen Snyder",
                                    "1": "The Housekeeper and the Professor",
                                    "2": "3.94",
                                    "3": "19445"
                                },
                                {
                                    "0": "M.C. Escher, Bruce Brooks Pfeiffer",
                                    "1": "M.C. Escher: The Graphic Work",
                                    "2": "3.93",
                                    "3": "19445"
                                },
                                {
                                    "0": "Margot Lee Shetterly",
                                    "1": "Hidden Figures: The American Dream and the Untold Story of the Black Women Mathematicians Who Helped Win the Space Race",
                                    "2": "3.92",
                                    "3": "19445"
                                },
                                {
                                    "0": "Leonard Mlodinow",
                                    "1": "The Drunkard's Walk: How Randomness Rules Our Lives",
                                    "2": "3.88",
                                    "3": "19445"
                                },
                                {
                                    "0": "Nassim Nicholas Taleb",
                                    "1": "The Black Swan: The Impact of the Highly Improbable",
                                    "2": "3.88",
                                    "3": "19445"
                                },
                                {
                                    "0": "Jacqueline Davies",
                                    "1": "The Lemonade War (The Lemonade War, #1)",
                                    "2": "3.88",
                                    "3": "19445"
                                },
                                {
                                    "0": "Ben Mezrich",
                                    "1": "Bringing Down the House: The Inside Story of Six M.I.T. Students Who Took Vegas for Millions",
                                    "2": "3.87",
                                    "3": "19445"
                                },
                                {
                                    "0": "Daniel Tammet",
                                    "1": "Born on a Blue Day: Inside the Extraordinary Mind of an Autistic Savant",
                                    "2": "3.84",
                                    "3": "19445"
                                }
                            ]
                        },
                        "text/html": [
                            "<table>",
                            "<tr><th>authors</th><th>title</th><th>average_rating</th><th>tag_id</th></tr>",
                            "<tr><td>Hervé Tullet, Christopher Franceschelli</td><td>Press Here</td><td>4.44</td><td>19445</td></tr>",
                            "<tr><td>Kevin Henkes</td><td>Chrysanthemum</td><td>4.31</td><td>19445</td></tr>",
                            "<tr><td>Douglas R. Hofstadter</td><td>Gödel, Escher, Bach: An Eternal Golden Braid</td><td>4.3</td><td>19445</td></tr>",
                            "<tr><td>Richard Feynman</td><td>Surely You're Joking, Mr. Feynman!: Adventures of a Curious Character</td><td>4.29</td><td>19445</td></tr>",
                            "<tr><td>Eric Carle</td><td>The Very Hungry Caterpillar Board Book</td><td>4.29</td><td>19445</td></tr>",
                            "<tr><td>Simon Singh</td><td>The Code Book: The Science of Secrecy from Ancient Egypt to Quantum Cryptography</td><td>4.28</td><td>19445</td></tr>",
                            "<tr><td>Audrey Wood, Don    Wood</td><td>The Napping House</td><td>4.27</td><td>19445</td></tr>",
                            "<tr><td>Neal Stephenson</td><td>Cryptonomicon</td><td>4.25</td><td>19445</td></tr>",
                            "<tr><td>Michael   Lewis</td><td>Moneyball: The Art of Winning an Unfair Game</td><td>4.24</td><td>19445</td></tr>",
                            "<tr><td>Richard Feynman</td><td>QED: The Strange Theory of Light and Matter</td><td>4.23</td><td>19445</td></tr>",
                            "<tr><td>Kevin Henkes</td><td>Wemberly Worried</td><td>4.22</td><td>19445</td></tr>",
                            "<tr><td>Norton Juster, Jules Feiffer</td><td>The Phantom Tollbooth</td><td>4.22</td><td>19445</td></tr>",
                            "<tr><td>Simon Singh</td><td>Fermat's Enigma: The Epic Quest to Solve the World's Greatest Mathematical Problem</td><td>4.22</td><td>19445</td></tr>",
                            "<tr><td>Vera B. Williams</td><td>A Chair for My Mother</td><td>4.2</td><td>19445</td></tr>",
                            "<tr><td>Tom Stoppard</td><td>Arcadia</td><td>4.19</td><td>19445</td></tr>",
                            "<tr><td>Richard Feynman</td><td>Six Easy Pieces: Essentials of Physics By Its Most Brilliant Teacher</td><td>4.19</td><td>19445</td></tr>",
                            "<tr><td>Neal Stephenson</td><td>Anathem</td><td>4.18</td><td>19445</td></tr>",
                            "<tr><td>Albert Einstein, Nigel Calder, Robert W. Lawson</td><td>Relativity: The Special and the General Theory</td><td>4.17</td><td>19445</td></tr>",
                            "<tr><td>Randall Munroe</td><td>What If?: Serious Scientific Answers to Absurd Hypothetical Questions</td><td>4.17</td><td>19445</td></tr>",
                            "<tr><td>James Gleick</td><td>Genius: The Life and Science of Richard Feynman</td><td>4.16</td><td>19445</td></tr>",
                            "<tr><td>Bruno Ernst, M.C. Escher, John E. Brigham</td><td>The Magic Mirror of M.C. Escher</td><td>4.15</td><td>19445</td></tr>",
                            "<tr><td>Ellen Stoll Walsh</td><td>Mouse Paint</td><td>4.15</td><td>19445</td></tr>",
                            "<tr><td>Sylvia Nasar</td><td>A Beautiful Mind</td><td>4.12</td><td>19445</td></tr>",
                            "<tr><td>Dr. Seuss</td><td>One Fish, Two Fish, Red Fish, Blue Fish</td><td>4.12</td><td>19445</td></tr>",
                            "<tr><td>Esphyr Slobodkina</td><td>Caps for Sale: A Tale of a Peddler, Some Monkeys and Their Monkey Business</td><td>4.12</td><td>19445</td></tr>",
                            "<tr><td>Michio Kaku</td><td>Hyperspace</td><td>4.11</td><td>19445</td></tr>",
                            "<tr><td>Theo LeSieg, Roy McKie</td><td>Ten Apples Up On Top!</td><td>4.11</td><td>19445</td></tr>",
                            "<tr><td>Jean Lee Latham</td><td>Carry On, Mr. Bowditch</td><td>4.11</td><td>19445</td></tr>",
                            "<tr><td>Eric Carle</td><td>The Grouchy Ladybug</td><td>4.09</td><td>19445</td></tr>",
                            "<tr><td>Wanda Gág</td><td>Millions of Cats</td><td>4.08</td><td>19445</td></tr>",
                            "<tr><td>Ludwig Wittgenstein</td><td>Tractatus Logico-Philosophicus</td><td>4.06</td><td>19445</td></tr>",
                            "<tr><td>Brian Greene</td><td>The Elegant Universe: Superstrings, Hidden Dimensions, and the Quest for the Ultimate Theory</td><td>4.06</td><td>19445</td></tr>",
                            "<tr><td>Nassim Nicholas Taleb</td><td>Fooled by Randomness: The Hidden Role of Chance in Life and in the Markets</td><td>4.05</td><td>19445</td></tr>",
                            "<tr><td>Burton G. Malkiel</td><td>A Random Walk Down Wall Street</td><td>4.05</td><td>19445</td></tr>",
                            "<tr><td>Nassim Nicholas Taleb</td><td>Antifragile: Things That Gain from Disorder</td><td>4.04</td><td>19445</td></tr>",
                            "<tr><td>David Auburn</td><td>Proof</td><td>4.01</td><td>19445</td></tr>",
                            "<tr><td>Apostolos Doxiadis, Christos H. Papadimitriou, Alecos Papadatos, Annie Di Donna</td><td>Logicomix: An epic search for truth</td><td>4.01</td><td>19445</td></tr>",
                            "<tr><td>James Gleick</td><td>The Information: A History, a Theory, a Flood</td><td>3.98</td><td>19445</td></tr>",
                            "<tr><td>James Gleick</td><td>Chaos: Making a New Science</td><td>3.98</td><td>19445</td></tr>",
                            "<tr><td>Nate Silver</td><td>The Signal and the Noise: Why So Many Predictions Fail - But Some Don't</td><td>3.96</td><td>19445</td></tr>",
                            "<tr><td>Fritjof Capra</td><td>The Tao of Physics: An Exploration of the Parallels between Modern Physics and Eastern Mysticism</td><td>3.96</td><td>19445</td></tr>",
                            "<tr><td>Dava Sobel, Neil Armstrong</td><td>Longitude: The True Story of a Lone Genius Who Solved the Greatest Scientific Problem of His Time</td><td>3.95</td><td>19445</td></tr>",
                            "<tr><td>Yōko Ogawa, Stephen Snyder</td><td>The Housekeeper and the Professor</td><td>3.94</td><td>19445</td></tr>",
                            "<tr><td>M.C. Escher, Bruce Brooks Pfeiffer</td><td>M.C. Escher: The Graphic Work</td><td>3.93</td><td>19445</td></tr>",
                            "<tr><td>Margot Lee Shetterly</td><td>Hidden Figures: The American Dream and the Untold Story of the Black Women Mathematicians Who Helped Win the Space Race</td><td>3.92</td><td>19445</td></tr>",
                            "<tr><td>Leonard Mlodinow</td><td>The Drunkard's Walk: How Randomness Rules Our Lives</td><td>3.88</td><td>19445</td></tr>",
                            "<tr><td>Nassim Nicholas Taleb</td><td>The Black Swan: The Impact of the Highly Improbable</td><td>3.88</td><td>19445</td></tr>",
                            "<tr><td>Jacqueline Davies</td><td>The Lemonade War (The Lemonade War, #1)</td><td>3.88</td><td>19445</td></tr>",
                            "<tr><td>Ben Mezrich</td><td>Bringing Down the House: The Inside Story of Six M.I.T. Students Who Took Vegas for Millions</td><td>3.87</td><td>19445</td></tr>",
                            "<tr><td>Daniel Tammet</td><td>Born on a Blue Day: Inside the Extraordinary Mind of an Autistic Savant</td><td>3.84</td><td>19445</td></tr>",
                            "</table>"
                        ]
                    }
                }
            ],
            "execution_count": 46
        },
        {
            "cell_type": "code",
            "source": [
                ""
            ],
            "metadata": {
                "azdata_cell_guid": "3aaae3a8-eff7-4b37-8970-2d913a67239b",
                "language": "sql"
            },
            "outputs": [],
            "execution_count": null
        },
        {
            "cell_type": "markdown",
            "source": [
                "### **Summary of event 2:**\n",
                "\n",
                "Double Click to edit."
            ],
            "metadata": {
                "azdata_cell_guid": "99d518dc-cd8b-42d6-9a9d-708771c9aa99"
            },
            "attachments": {}
        }
    ]
}